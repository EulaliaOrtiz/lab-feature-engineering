{
 "cells": [
  {
   "cell_type": "markdown",
   "id": "b35b7ba5",
   "metadata": {},
   "source": [
    "Afternoon instructions\n",
    "In this lab, you will use learningSet.csv file which you have already cloned in the previous activities.\n",
    "Instructions\n",
    "Here we will work on cleaning some of the other columns in the dataset using the techniques that we used before in the lessons.\n",
    "\n",
    "Check for null values in the numerical columns.\n",
    "Use appropriate methods to clean the columns GEOCODE2, WEALTH1, ADI, DMA,and MSA.\n",
    "Use appropriate EDA technique where ever necessary."
   ]
  },
  {
   "cell_type": "markdown",
   "id": "6cc6288a",
   "metadata": {},
   "source": [
    "## Importing libraries and reading the data"
   ]
  },
  {
   "cell_type": "code",
   "execution_count": 2,
   "id": "bb589deb",
   "metadata": {},
   "outputs": [],
   "source": [
    "import pandas as pd\n",
    "import numpy as np\n",
    "import matplotlib.pyplot as plt\n",
    "import seaborn as sns \n",
    "pd.set_option('display.max_columns', None)\n"
   ]
  },
  {
   "cell_type": "code",
   "execution_count": 6,
   "id": "c58cddf8",
   "metadata": {},
   "outputs": [],
   "source": [
    "data = pd.read_csv('numerical7_02.csv')"
   ]
  },
  {
   "cell_type": "code",
   "execution_count": 7,
   "id": "3378c9c5",
   "metadata": {},
   "outputs": [
    {
     "data": {
      "text/plain": [
       "(50618, 324)"
      ]
     },
     "execution_count": 7,
     "metadata": {},
     "output_type": "execute_result"
    }
   ],
   "source": [
    "data.shape"
   ]
  },
  {
   "cell_type": "markdown",
   "id": "ee88cb5a",
   "metadata": {},
   "source": [
    "## Checking for null values "
   ]
  },
  {
   "cell_type": "code",
   "execution_count": 5,
   "id": "bd12ee95",
   "metadata": {},
   "outputs": [],
   "source": [
    "numerical = data.select_dtypes([object])"
   ]
  },
  {
   "cell_type": "code",
   "execution_count": 6,
   "id": "5ebaba9f",
   "metadata": {},
   "outputs": [
    {
     "data": {
      "text/plain": [
       "(95412, 74)"
      ]
     },
     "execution_count": 6,
     "metadata": {},
     "output_type": "execute_result"
    }
   ],
   "source": [
    "categorical.shape"
   ]
  },
  {
   "cell_type": "markdown",
   "id": "ce218027",
   "metadata": {},
   "source": [
    "## Checking for missing values and identifying columns with more than 85% "
   ]
  },
  {
   "cell_type": "code",
   "execution_count": 7,
   "id": "d82b119f",
   "metadata": {},
   "outputs": [
    {
     "data": {
      "text/html": [
       "<div>\n",
       "<style scoped>\n",
       "    .dataframe tbody tr th:only-of-type {\n",
       "        vertical-align: middle;\n",
       "    }\n",
       "\n",
       "    .dataframe tbody tr th {\n",
       "        vertical-align: top;\n",
       "    }\n",
       "\n",
       "    .dataframe thead th {\n",
       "        text-align: right;\n",
       "    }\n",
       "</style>\n",
       "<table border=\"1\" class=\"dataframe\">\n",
       "  <thead>\n",
       "    <tr style=\"text-align: right;\">\n",
       "      <th></th>\n",
       "      <th>column_name</th>\n",
       "      <th>nulls_percentage</th>\n",
       "    </tr>\n",
       "  </thead>\n",
       "  <tbody>\n",
       "    <tr>\n",
       "      <th>0</th>\n",
       "      <td>OSOURCE</td>\n",
       "      <td>0.000000</td>\n",
       "    </tr>\n",
       "    <tr>\n",
       "      <th>1</th>\n",
       "      <td>STATE</td>\n",
       "      <td>0.000000</td>\n",
       "    </tr>\n",
       "    <tr>\n",
       "      <th>2</th>\n",
       "      <td>ZIP</td>\n",
       "      <td>0.000000</td>\n",
       "    </tr>\n",
       "    <tr>\n",
       "      <th>3</th>\n",
       "      <td>MAILCODE</td>\n",
       "      <td>0.000000</td>\n",
       "    </tr>\n",
       "    <tr>\n",
       "      <th>4</th>\n",
       "      <td>PVASTATE</td>\n",
       "      <td>0.000000</td>\n",
       "    </tr>\n",
       "    <tr>\n",
       "      <th>...</th>\n",
       "      <td>...</td>\n",
       "      <td>...</td>\n",
       "    </tr>\n",
       "    <tr>\n",
       "      <th>69</th>\n",
       "      <td>RFA_2A</td>\n",
       "      <td>0.000000</td>\n",
       "    </tr>\n",
       "    <tr>\n",
       "      <th>70</th>\n",
       "      <td>MDMAUD_R</td>\n",
       "      <td>0.000000</td>\n",
       "    </tr>\n",
       "    <tr>\n",
       "      <th>71</th>\n",
       "      <td>MDMAUD_F</td>\n",
       "      <td>0.000000</td>\n",
       "    </tr>\n",
       "    <tr>\n",
       "      <th>72</th>\n",
       "      <td>MDMAUD_A</td>\n",
       "      <td>0.000000</td>\n",
       "    </tr>\n",
       "    <tr>\n",
       "      <th>73</th>\n",
       "      <td>GEOCODE2</td>\n",
       "      <td>0.001383</td>\n",
       "    </tr>\n",
       "  </tbody>\n",
       "</table>\n",
       "<p>74 rows × 2 columns</p>\n",
       "</div>"
      ],
      "text/plain": [
       "   column_name  nulls_percentage\n",
       "0      OSOURCE          0.000000\n",
       "1        STATE          0.000000\n",
       "2          ZIP          0.000000\n",
       "3     MAILCODE          0.000000\n",
       "4     PVASTATE          0.000000\n",
       "..         ...               ...\n",
       "69      RFA_2A          0.000000\n",
       "70    MDMAUD_R          0.000000\n",
       "71    MDMAUD_F          0.000000\n",
       "72    MDMAUD_A          0.000000\n",
       "73    GEOCODE2          0.001383\n",
       "\n",
       "[74 rows x 2 columns]"
      ]
     },
     "execution_count": 7,
     "metadata": {},
     "output_type": "execute_result"
    }
   ],
   "source": [
    "nulls_percent_categorical = pd.DataFrame(categorical.isna().sum()/len(categorical)).reset_index()\n",
    "nulls_percent_categorical.columns = ['column_name', 'nulls_percentage']\n",
    "nulls_percent_categorical"
   ]
  },
  {
   "cell_type": "code",
   "execution_count": 16,
   "id": "c84abc4a",
   "metadata": {},
   "outputs": [],
   "source": [
    "def filter_nulls(df, threshold=0.25):\n",
    "    nulls_percent_df = pd.DataFrame(data.isna().sum()/len(data)).reset_index()\n",
    "    nulls_percent_df.columns = ['column_name', 'nulls_percentage']\n",
    "    columns_above_threshold = nulls_percent_df[nulls_percent_df['nulls_percentage']>threshold]\n",
    "    drop_columns_list = list(columns_above_threshold['column_name'])\n",
    "    return drop_columns_list"
   ]
  },
  {
   "cell_type": "code",
   "execution_count": null,
   "id": "124160d2",
   "metadata": {},
   "outputs": [],
   "source": [
    "filter_nulls(categorical, threshold=0.85)"
   ]
  },
  {
   "cell_type": "markdown",
   "id": "a72df8b9",
   "metadata": {},
   "source": [
    "## Appending OSOURCE and ZIP in an empty list of potential columns to drop"
   ]
  },
  {
   "cell_type": "code",
   "execution_count": 11,
   "id": "87ac0572",
   "metadata": {},
   "outputs": [],
   "source": [
    "drop_list = []\n",
    "drop_list.extend(['OSOURCE', 'ZIP'])"
   ]
  },
  {
   "cell_type": "markdown",
   "id": "e56cdd11",
   "metadata": {},
   "source": [
    "## Reducing the number of unique values in the gender column"
   ]
  },
  {
   "cell_type": "code",
   "execution_count": 14,
   "id": "5877044c",
   "metadata": {},
   "outputs": [
    {
     "data": {
      "text/plain": [
       "array(['F', 'M', ' ', 'C', 'U', 'J', 'A'], dtype=object)"
      ]
     },
     "execution_count": 14,
     "metadata": {},
     "output_type": "execute_result"
    }
   ],
   "source": [
    "categorical['GENDER'].unique()"
   ]
  },
  {
   "cell_type": "code",
   "execution_count": 15,
   "id": "844a907f",
   "metadata": {},
   "outputs": [
    {
     "name": "stdout",
     "output_type": "stream",
     "text": [
      "F    51277\n",
      "M    39094\n",
      "      2957\n",
      "U     1715\n",
      "J      365\n",
      "C        2\n",
      "A        2\n",
      "Name: GENDER, dtype: int64\n"
     ]
    }
   ],
   "source": [
    "print(categorical['GENDER'].value_counts())"
   ]
  },
  {
   "cell_type": "code",
   "execution_count": null,
   "id": "5c29086c",
   "metadata": {},
   "outputs": [],
   "source": [
    "categorical['GENDER'] = categorical['GENDER'].fillna('F')"
   ]
  },
  {
   "cell_type": "code",
   "execution_count": null,
   "id": "d51c186b",
   "metadata": {},
   "outputs": [],
   "source": [
    "categorical['GENDER'] = categorical['GENDER'].apply(lambda x: x.replace(\"U\", \"other\"))"
   ]
  },
  {
   "cell_type": "code",
   "execution_count": null,
   "id": "ea742aa0",
   "metadata": {},
   "outputs": [],
   "source": [
    "categorical['GENDER'] = categorical['GENDER'].apply(lambda x: x.replace(\"J\", \"other\"))"
   ]
  },
  {
   "cell_type": "code",
   "execution_count": null,
   "id": "9ea5433e",
   "metadata": {},
   "outputs": [],
   "source": [
    "categorical['GENDER'] = categorical['GENDER'].apply(lambda x: x.replace(\"C\", \"other\"))"
   ]
  },
  {
   "cell_type": "code",
   "execution_count": null,
   "id": "4cde9bee",
   "metadata": {},
   "outputs": [],
   "source": [
    "categorical['GENDER'] = categorical['GENDER'].apply(lambda x: x.replace(\"A\", \"other\"))"
   ]
  },
  {
   "cell_type": "markdown",
   "id": "636a8cb6",
   "metadata": {},
   "source": [
    "#def gender(x):\n",
    "    for x in col:\n",
    "        if (x != 'F') & (x != 'M')"
   ]
  },
  {
   "cell_type": "markdown",
   "id": "4144b9a0",
   "metadata": {},
   "source": [
    "#categorical['GENDER'] = categorical['GENDER'].map({'A':'other',\n",
    "                             'C':'other',\n",
    "                             'J':'other', 'U': 'other'})"
   ]
  },
  {
   "cell_type": "markdown",
   "id": "7084fa44",
   "metadata": {},
   "source": [
    "## Checking for null values in the numerical columns."
   ]
  },
  {
   "cell_type": "code",
   "execution_count": null,
   "id": "2df20d4b",
   "metadata": {},
   "outputs": [],
   "source": []
  },
  {
   "cell_type": "code",
   "execution_count": null,
   "id": "655a1e08",
   "metadata": {},
   "outputs": [],
   "source": []
  },
  {
   "cell_type": "markdown",
   "id": "d382ea95",
   "metadata": {},
   "source": [
    "## Use appropriate methods to clean the columns GEOCODE2, WEALTH1, ADI, DMA,and MSA."
   ]
  },
  {
   "cell_type": "code",
   "execution_count": null,
   "id": "f01fa7e3",
   "metadata": {},
   "outputs": [],
   "source": []
  },
  {
   "cell_type": "markdown",
   "id": "4d0093e1",
   "metadata": {},
   "source": [
    "## Use appropriate EDA technique where necessary."
   ]
  },
  {
   "cell_type": "code",
   "execution_count": null,
   "id": "9816f731",
   "metadata": {},
   "outputs": [],
   "source": []
  }
 ],
 "metadata": {
  "kernelspec": {
   "display_name": "Python 3 (ipykernel)",
   "language": "python",
   "name": "python3"
  },
  "language_info": {
   "codemirror_mode": {
    "name": "ipython",
    "version": 3
   },
   "file_extension": ".py",
   "mimetype": "text/x-python",
   "name": "python",
   "nbconvert_exporter": "python",
   "pygments_lexer": "ipython3",
   "version": "3.9.12"
  },
  "toc": {
   "base_numbering": 1,
   "nav_menu": {},
   "number_sections": true,
   "sideBar": true,
   "skip_h1_title": false,
   "title_cell": "Table of Contents",
   "title_sidebar": "Contents",
   "toc_cell": false,
   "toc_position": {},
   "toc_section_display": true,
   "toc_window_display": false
  },
  "varInspector": {
   "cols": {
    "lenName": 16,
    "lenType": 16,
    "lenVar": 40
   },
   "kernels_config": {
    "python": {
     "delete_cmd_postfix": "",
     "delete_cmd_prefix": "del ",
     "library": "var_list.py",
     "varRefreshCmd": "print(var_dic_list())"
    },
    "r": {
     "delete_cmd_postfix": ") ",
     "delete_cmd_prefix": "rm(",
     "library": "var_list.r",
     "varRefreshCmd": "cat(var_dic_list()) "
    }
   },
   "types_to_exclude": [
    "module",
    "function",
    "builtin_function_or_method",
    "instance",
    "_Feature"
   ],
   "window_display": false
  }
 },
 "nbformat": 4,
 "nbformat_minor": 5
}
